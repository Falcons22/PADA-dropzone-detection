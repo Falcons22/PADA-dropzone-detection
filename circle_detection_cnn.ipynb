{
 "cells": [
  {
   "cell_type": "code",
   "execution_count": 3,
   "id": "5c4f6cd9",
   "metadata": {},
   "outputs": [],
   "source": [
    "import numpy as np\n",
    "import tensorflow as tf\n",
    "from tensorflow import keras\n",
    "import cv2\n",
    "import matplotlib.pyplot as plt"
   ]
  },
  {
   "cell_type": "code",
   "execution_count": 4,
   "id": "5d7d0525",
   "metadata": {},
   "outputs": [
    {
     "name": "stdout",
     "output_type": "stream",
     "text": [
      "Num GPUs Available:  1\n"
     ]
    }
   ],
   "source": [
    "print(\"Num GPUs Available: \", len(tf.config.list_physical_devices('GPU')))"
   ]
  },
  {
   "cell_type": "code",
   "execution_count": 5,
   "id": "04fcf677",
   "metadata": {},
   "outputs": [],
   "source": [
    "def add_square(img, center, width):\n",
    "  start_point = (center[0]-width, center[1]-width)\n",
    "  end_point   = (center[0]+width, center[1]+width)\n",
    "  cv2.rectangle(img, start_point, end_point, random_color(),cv2.FILLED)\n",
    "\n",
    "# %%\n",
    "def create_data_sample(num_shapes, height, width):\n",
    "  img = np.zeros((height, width, 3))\n",
    "  label = np.zeros((height, width, 1))\n",
    "  for _ in range(num_shapes):\n",
    "    x = int(np.random.rand()*width)\n",
    "    y = int(np.random.rand()*height)\n",
    "    if np.random.rand() > 0.9:\n",
    "      cv2.circle(img, (x,y), int(np.ceil(width*0.05)), random_color(), cv2.FILLED)\n",
    "      cv2.circle(label, (x,y), int(np.ceil(width*0.02)), (1,1,1), cv2.FILLED)\n",
    "    # else: \n",
    "    #   add_square(img, (x,y), int(np.ceil(width*0.05*0.7)))\n",
    "  return img, label\n",
    "\n",
    "\n",
    "# %%\n",
    "def test_batch(num_shapes, height, width):\n",
    "  img, label = create_data_sample(num_shapes, height, width)\n",
    "  return np.expand_dims(img,0), np.expand_dims(label,0)\n",
    "\n",
    "# %%\n",
    "def grayscale_image(img):\n",
    "  return np.expand_dims((img[:,:,0] + img[:,:,1] + img[:,:,2])/3,2)\n",
    "\n",
    "# %%\n",
    "# (128,128,1) --> (128,128,3)\n",
    "def to_three_channels(img):\n",
    "  return np.squeeze(np.stack((img,img,img), 2))\n",
    "\n",
    "# %%\n",
    "def random_color():\n",
    "  return np.random.rand(3)\n",
    "\n",
    "# %%\n",
    "def show_sample(img, label):\n",
    "  figure, axis = plt.subplots(1,2)\n",
    "  axis[0].imshow(img)\n",
    "  axis[1].imshow(to_three_channels(label))\n",
    "\n",
    "# %%\n",
    "def show_batch(img, label):\n",
    "  show_sample(img[0,:,:,:],label[0,:,:,:])"
   ]
  },
  {
   "cell_type": "code",
   "execution_count": 7,
   "id": "72da09eb",
   "metadata": {},
   "outputs": [],
   "source": [
    "def loss_function(y_true, y_pred):\n",
    "  squared_diff = tf.square(y_true - y_pred)\n",
    "  return tf.reduce_mean(squared_diff)"
   ]
  },
  {
   "cell_type": "code",
   "execution_count": 8,
   "id": "3c5d1471",
   "metadata": {},
   "outputs": [
    {
     "name": "stdout",
     "output_type": "stream",
     "text": [
      "0.31036776\n"
     ]
    }
   ],
   "source": [
    "model = keras.models.load_model('myModel.h5',custom_objects={'loss_function':loss_function})\n",
    "\n",
    "\n"
   ]
  },
  {
   "cell_type": "code",
   "execution_count": 13,
   "id": "950d6fab",
   "metadata": {},
   "outputs": [
    {
     "name": "stdout",
     "output_type": "stream",
     "text": [
      "1.7870884\n"
     ]
    }
   ],
   "source": [
    "img, label = test_batch(10, 128, 128)\n",
    "\n",
    "y_pred = model.predict(img)\n",
    "print(y_pred.max())\n",
    "# show_batch(img, y_pred)"
   ]
  },
  {
   "cell_type": "code",
   "execution_count": 14,
   "id": "cad9571e",
   "metadata": {},
   "outputs": [
    {
     "data": {
      "image/png": "[encoded data removed]",
      "text/plain": [
       "<Figure size 432x288 with 2 Axes>"
      ]
     },
     "metadata": {
      "needs_background": "light"
     },
     "output_type": "display_data"
    }
   ],
   "source": [
    "plt.figure()\n",
    "plt.subplot(1,2,1)\n",
    "plt.imshow(img[0,:,:,:])\n",
    "plt.subplot(1,2,2)\n",
    "plt.imshow(y_pred[0,:,:,:])\n",
    "plt.show()"
   ]
  },
  {
   "cell_type": "code",
   "execution_count": null,
   "id": "e1fa5907",
   "metadata": {},
   "outputs": [],
   "source": []
  }
 ],
 "metadata": {
  "kernelspec": {
   "display_name": "Python 3 (ipykernel)",
   "language": "python",
   "name": "python3"
  },
  "language_info": {
   "codemirror_mode": {
    "name": "ipython",
    "version": 3
   },
   "file_extension": ".py",
   "mimetype": "text/x-python",
   "name": "python",
   "nbconvert_exporter": "python",
   "pygments_lexer": "ipython3",
   "version": "3.9.7"
  }
 },
 "nbformat": 4,
 "nbformat_minor": 5
}
